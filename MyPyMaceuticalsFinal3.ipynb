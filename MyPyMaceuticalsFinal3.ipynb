{
 "cells": [
  {
   "cell_type": "markdown",
   "metadata": {},
   "source": [
    "## Observations and Insights "
   ]
  },
  {
   "cell_type": "markdown",
   "metadata": {},
   "source": []
  },
  {
   "cell_type": "code",
   "execution_count": 1,
   "metadata": {},
   "outputs": [
    {
     "data": {
      "text/html": [
       "<div>\n",
       "<style scoped>\n",
       "    .dataframe tbody tr th:only-of-type {\n",
       "        vertical-align: middle;\n",
       "    }\n",
       "\n",
       "    .dataframe tbody tr th {\n",
       "        vertical-align: top;\n",
       "    }\n",
       "\n",
       "    .dataframe thead th {\n",
       "        text-align: right;\n",
       "    }\n",
       "</style>\n",
       "<table border=\"1\" class=\"dataframe\">\n",
       "  <thead>\n",
       "    <tr style=\"text-align: right;\">\n",
       "      <th></th>\n",
       "      <th>Mouse ID</th>\n",
       "      <th>Drug Regimen</th>\n",
       "      <th>Sex</th>\n",
       "      <th>Age_months</th>\n",
       "      <th>Weight (g)</th>\n",
       "    </tr>\n",
       "  </thead>\n",
       "  <tbody>\n",
       "    <tr>\n",
       "      <td>0</td>\n",
       "      <td>k403</td>\n",
       "      <td>Ramicane</td>\n",
       "      <td>Male</td>\n",
       "      <td>21</td>\n",
       "      <td>16</td>\n",
       "    </tr>\n",
       "    <tr>\n",
       "      <td>1</td>\n",
       "      <td>s185</td>\n",
       "      <td>Capomulin</td>\n",
       "      <td>Female</td>\n",
       "      <td>3</td>\n",
       "      <td>17</td>\n",
       "    </tr>\n",
       "    <tr>\n",
       "      <td>2</td>\n",
       "      <td>x401</td>\n",
       "      <td>Capomulin</td>\n",
       "      <td>Female</td>\n",
       "      <td>16</td>\n",
       "      <td>15</td>\n",
       "    </tr>\n",
       "    <tr>\n",
       "      <td>3</td>\n",
       "      <td>m601</td>\n",
       "      <td>Capomulin</td>\n",
       "      <td>Male</td>\n",
       "      <td>22</td>\n",
       "      <td>17</td>\n",
       "    </tr>\n",
       "    <tr>\n",
       "      <td>4</td>\n",
       "      <td>g791</td>\n",
       "      <td>Ramicane</td>\n",
       "      <td>Male</td>\n",
       "      <td>11</td>\n",
       "      <td>16</td>\n",
       "    </tr>\n",
       "  </tbody>\n",
       "</table>\n",
       "</div>"
      ],
      "text/plain": [
       "  Mouse ID Drug Regimen     Sex  Age_months  Weight (g)\n",
       "0     k403     Ramicane    Male          21          16\n",
       "1     s185    Capomulin  Female           3          17\n",
       "2     x401    Capomulin  Female          16          15\n",
       "3     m601    Capomulin    Male          22          17\n",
       "4     g791     Ramicane    Male          11          16"
      ]
     },
     "execution_count": 1,
     "metadata": {},
     "output_type": "execute_result"
    }
   ],
   "source": [
    "# Dependencies and Setup\n",
    "import matplotlib.pyplot as plt\n",
    "import pandas as pd\n",
    "import scipy.stats as st\n",
    "import numpy as np\n",
    "\n",
    "# Study data files\n",
    "mouse_metadata_path = \"data/Mouse_metadata.csv\"\n",
    "study_results_path = \"data/Study_results.csv\"\n",
    "\n",
    "# Read the mouse data and the study results\n",
    "mouse_metadata = pd.read_csv(mouse_metadata_path)\n",
    "study_results = pd.read_csv(study_results_path)\n",
    "\n",
    "mouse_metadata.head()"
   ]
  },
  {
   "cell_type": "code",
   "execution_count": 2,
   "metadata": {},
   "outputs": [
    {
     "data": {
      "text/html": [
       "<div>\n",
       "<style scoped>\n",
       "    .dataframe tbody tr th:only-of-type {\n",
       "        vertical-align: middle;\n",
       "    }\n",
       "\n",
       "    .dataframe tbody tr th {\n",
       "        vertical-align: top;\n",
       "    }\n",
       "\n",
       "    .dataframe thead th {\n",
       "        text-align: right;\n",
       "    }\n",
       "</style>\n",
       "<table border=\"1\" class=\"dataframe\">\n",
       "  <thead>\n",
       "    <tr style=\"text-align: right;\">\n",
       "      <th></th>\n",
       "      <th>Mouse ID</th>\n",
       "      <th>Timepoint</th>\n",
       "      <th>Tumor Volume (mm3)</th>\n",
       "      <th>Metastatic Sites</th>\n",
       "    </tr>\n",
       "  </thead>\n",
       "  <tbody>\n",
       "    <tr>\n",
       "      <td>0</td>\n",
       "      <td>b128</td>\n",
       "      <td>0</td>\n",
       "      <td>45.0</td>\n",
       "      <td>0</td>\n",
       "    </tr>\n",
       "    <tr>\n",
       "      <td>1</td>\n",
       "      <td>f932</td>\n",
       "      <td>0</td>\n",
       "      <td>45.0</td>\n",
       "      <td>0</td>\n",
       "    </tr>\n",
       "    <tr>\n",
       "      <td>2</td>\n",
       "      <td>g107</td>\n",
       "      <td>0</td>\n",
       "      <td>45.0</td>\n",
       "      <td>0</td>\n",
       "    </tr>\n",
       "    <tr>\n",
       "      <td>3</td>\n",
       "      <td>a457</td>\n",
       "      <td>0</td>\n",
       "      <td>45.0</td>\n",
       "      <td>0</td>\n",
       "    </tr>\n",
       "    <tr>\n",
       "      <td>4</td>\n",
       "      <td>c819</td>\n",
       "      <td>0</td>\n",
       "      <td>45.0</td>\n",
       "      <td>0</td>\n",
       "    </tr>\n",
       "  </tbody>\n",
       "</table>\n",
       "</div>"
      ],
      "text/plain": [
       "  Mouse ID  Timepoint  Tumor Volume (mm3)  Metastatic Sites\n",
       "0     b128          0                45.0                 0\n",
       "1     f932          0                45.0                 0\n",
       "2     g107          0                45.0                 0\n",
       "3     a457          0                45.0                 0\n",
       "4     c819          0                45.0                 0"
      ]
     },
     "execution_count": 2,
     "metadata": {},
     "output_type": "execute_result"
    }
   ],
   "source": [
    "study_results.head()"
   ]
  },
  {
   "cell_type": "code",
   "execution_count": 3,
   "metadata": {},
   "outputs": [
    {
     "data": {
      "text/html": [
       "<div>\n",
       "<style scoped>\n",
       "    .dataframe tbody tr th:only-of-type {\n",
       "        vertical-align: middle;\n",
       "    }\n",
       "\n",
       "    .dataframe tbody tr th {\n",
       "        vertical-align: top;\n",
       "    }\n",
       "\n",
       "    .dataframe thead th {\n",
       "        text-align: right;\n",
       "    }\n",
       "</style>\n",
       "<table border=\"1\" class=\"dataframe\">\n",
       "  <thead>\n",
       "    <tr style=\"text-align: right;\">\n",
       "      <th></th>\n",
       "      <th>Mouse ID</th>\n",
       "      <th>Drug Regimen</th>\n",
       "      <th>Sex</th>\n",
       "      <th>Age_months</th>\n",
       "      <th>Weight (g)</th>\n",
       "      <th>Timepoint</th>\n",
       "      <th>Tumor Volume (mm3)</th>\n",
       "      <th>Metastatic Sites</th>\n",
       "    </tr>\n",
       "  </thead>\n",
       "  <tbody>\n",
       "    <tr>\n",
       "      <td>0</td>\n",
       "      <td>k403</td>\n",
       "      <td>Ramicane</td>\n",
       "      <td>Male</td>\n",
       "      <td>21</td>\n",
       "      <td>16</td>\n",
       "      <td>0</td>\n",
       "      <td>45.000000</td>\n",
       "      <td>0</td>\n",
       "    </tr>\n",
       "    <tr>\n",
       "      <td>1</td>\n",
       "      <td>k403</td>\n",
       "      <td>Ramicane</td>\n",
       "      <td>Male</td>\n",
       "      <td>21</td>\n",
       "      <td>16</td>\n",
       "      <td>5</td>\n",
       "      <td>38.825898</td>\n",
       "      <td>0</td>\n",
       "    </tr>\n",
       "    <tr>\n",
       "      <td>2</td>\n",
       "      <td>k403</td>\n",
       "      <td>Ramicane</td>\n",
       "      <td>Male</td>\n",
       "      <td>21</td>\n",
       "      <td>16</td>\n",
       "      <td>10</td>\n",
       "      <td>35.014271</td>\n",
       "      <td>1</td>\n",
       "    </tr>\n",
       "    <tr>\n",
       "      <td>3</td>\n",
       "      <td>k403</td>\n",
       "      <td>Ramicane</td>\n",
       "      <td>Male</td>\n",
       "      <td>21</td>\n",
       "      <td>16</td>\n",
       "      <td>15</td>\n",
       "      <td>34.223992</td>\n",
       "      <td>1</td>\n",
       "    </tr>\n",
       "    <tr>\n",
       "      <td>4</td>\n",
       "      <td>k403</td>\n",
       "      <td>Ramicane</td>\n",
       "      <td>Male</td>\n",
       "      <td>21</td>\n",
       "      <td>16</td>\n",
       "      <td>20</td>\n",
       "      <td>32.997729</td>\n",
       "      <td>1</td>\n",
       "    </tr>\n",
       "  </tbody>\n",
       "</table>\n",
       "</div>"
      ],
      "text/plain": [
       "  Mouse ID Drug Regimen   Sex  Age_months  Weight (g)  Timepoint  \\\n",
       "0     k403     Ramicane  Male          21          16          0   \n",
       "1     k403     Ramicane  Male          21          16          5   \n",
       "2     k403     Ramicane  Male          21          16         10   \n",
       "3     k403     Ramicane  Male          21          16         15   \n",
       "4     k403     Ramicane  Male          21          16         20   \n",
       "\n",
       "   Tumor Volume (mm3)  Metastatic Sites  \n",
       "0           45.000000                 0  \n",
       "1           38.825898                 0  \n",
       "2           35.014271                 1  \n",
       "3           34.223992                 1  \n",
       "4           32.997729                 1  "
      ]
     },
     "execution_count": 3,
     "metadata": {},
     "output_type": "execute_result"
    }
   ],
   "source": [
    "# Combine the data into a single dataset\n",
    "study_mouse_df = pd.merge(mouse_metadata,study_results, on = 'Mouse ID', how ='outer')\n",
    "study_mouse_df.head()"
   ]
  },
  {
   "cell_type": "code",
   "execution_count": 4,
   "metadata": {},
   "outputs": [
    {
     "name": "stdout",
     "output_type": "stream",
     "text": [
      "1893\n"
     ]
    }
   ],
   "source": [
    "# Checking the number of mice in the DataFrame.\n",
    "mice_count = study_mouse_df[\"Mouse ID\"].count()\n",
    "print(mice_count)"
   ]
  },
  {
   "cell_type": "code",
   "execution_count": 5,
   "metadata": {},
   "outputs": [
    {
     "name": "stdout",
     "output_type": "stream",
     "text": [
      "     Mouse ID  Timepoint\n",
      "1        k403          5\n",
      "2        k403         10\n",
      "3        k403         15\n",
      "4        k403         20\n",
      "5        k403         25\n",
      "...       ...        ...\n",
      "1888     z969         25\n",
      "1889     z969         30\n",
      "1890     z969         35\n",
      "1891     z969         40\n",
      "1892     z969         45\n",
      "\n",
      "[1644 rows x 2 columns]\n"
     ]
    }
   ],
   "source": [
    "# Getting the duplicate mice by ID number that shows up for Mouse ID and Timepoint. \n",
    "duplicate_mice_df = study_mouse_df[study_mouse_df.duplicated([\"Mouse ID\"])]\n",
    "#print(\"Duplicate rows based on Mouse ID:\", duplicate_mice_df)\n",
    "duplicate_mice_df = duplicate_mice_df.loc[:,[\"Mouse ID\",\"Timepoint\"]]\n",
    "print(duplicate_mice_df)"
   ]
  },
  {
   "cell_type": "code",
   "execution_count": 6,
   "metadata": {},
   "outputs": [
    {
     "data": {
      "text/html": [
       "<div>\n",
       "<style scoped>\n",
       "    .dataframe tbody tr th:only-of-type {\n",
       "        vertical-align: middle;\n",
       "    }\n",
       "\n",
       "    .dataframe tbody tr th {\n",
       "        vertical-align: top;\n",
       "    }\n",
       "\n",
       "    .dataframe thead th {\n",
       "        text-align: right;\n",
       "    }\n",
       "</style>\n",
       "<table border=\"1\" class=\"dataframe\">\n",
       "  <thead>\n",
       "    <tr style=\"text-align: right;\">\n",
       "      <th></th>\n",
       "      <th>Mouse ID</th>\n",
       "      <th>Drug Regimen</th>\n",
       "      <th>Sex</th>\n",
       "      <th>Age_months</th>\n",
       "      <th>Weight (g)</th>\n",
       "      <th>Timepoint</th>\n",
       "      <th>Tumor Volume (mm3)</th>\n",
       "      <th>Metastatic Sites</th>\n",
       "    </tr>\n",
       "  </thead>\n",
       "  <tbody>\n",
       "    <tr>\n",
       "      <td>1</td>\n",
       "      <td>k403</td>\n",
       "      <td>Ramicane</td>\n",
       "      <td>Male</td>\n",
       "      <td>21</td>\n",
       "      <td>16</td>\n",
       "      <td>5</td>\n",
       "      <td>38.825898</td>\n",
       "      <td>0</td>\n",
       "    </tr>\n",
       "    <tr>\n",
       "      <td>2</td>\n",
       "      <td>k403</td>\n",
       "      <td>Ramicane</td>\n",
       "      <td>Male</td>\n",
       "      <td>21</td>\n",
       "      <td>16</td>\n",
       "      <td>10</td>\n",
       "      <td>35.014271</td>\n",
       "      <td>1</td>\n",
       "    </tr>\n",
       "    <tr>\n",
       "      <td>3</td>\n",
       "      <td>k403</td>\n",
       "      <td>Ramicane</td>\n",
       "      <td>Male</td>\n",
       "      <td>21</td>\n",
       "      <td>16</td>\n",
       "      <td>15</td>\n",
       "      <td>34.223992</td>\n",
       "      <td>1</td>\n",
       "    </tr>\n",
       "    <tr>\n",
       "      <td>4</td>\n",
       "      <td>k403</td>\n",
       "      <td>Ramicane</td>\n",
       "      <td>Male</td>\n",
       "      <td>21</td>\n",
       "      <td>16</td>\n",
       "      <td>20</td>\n",
       "      <td>32.997729</td>\n",
       "      <td>1</td>\n",
       "    </tr>\n",
       "    <tr>\n",
       "      <td>5</td>\n",
       "      <td>k403</td>\n",
       "      <td>Ramicane</td>\n",
       "      <td>Male</td>\n",
       "      <td>21</td>\n",
       "      <td>16</td>\n",
       "      <td>25</td>\n",
       "      <td>33.464577</td>\n",
       "      <td>1</td>\n",
       "    </tr>\n",
       "  </tbody>\n",
       "</table>\n",
       "</div>"
      ],
      "text/plain": [
       "  Mouse ID Drug Regimen   Sex  Age_months  Weight (g)  Timepoint  \\\n",
       "1     k403     Ramicane  Male          21          16          5   \n",
       "2     k403     Ramicane  Male          21          16         10   \n",
       "3     k403     Ramicane  Male          21          16         15   \n",
       "4     k403     Ramicane  Male          21          16         20   \n",
       "5     k403     Ramicane  Male          21          16         25   \n",
       "\n",
       "   Tumor Volume (mm3)  Metastatic Sites  \n",
       "1           38.825898                 0  \n",
       "2           35.014271                 1  \n",
       "3           34.223992                 1  \n",
       "4           32.997729                 1  \n",
       "5           33.464577                 1  "
      ]
     },
     "execution_count": 6,
     "metadata": {},
     "output_type": "execute_result"
    }
   ],
   "source": [
    "# Optional: Get all the data for the duplicate mouse ID. \n",
    "# Optional: Get all the data for the duplicate mouse ID. \n",
    "duplicate_mice_df = study_mouse_df[study_mouse_df.duplicated([\"Mouse ID\"])]\n",
    "#print(\"Duplicate rows based on Mouse ID:\", duplicate_mice_df)\n",
    "duplicate_mice_df.head()"
   ]
  },
  {
   "cell_type": "code",
   "execution_count": 7,
   "metadata": {},
   "outputs": [
    {
     "data": {
      "text/plain": [
       "array(['g989'], dtype=object)"
      ]
     },
     "execution_count": 7,
     "metadata": {},
     "output_type": "execute_result"
    }
   ],
   "source": [
    "#Checking duplicate rows\n",
    "duplicate_mouse=study_mouse_df.loc[study_mouse_df.duplicated(subset=[\"Mouse ID\", \"Timepoint\"]), \"Mouse ID\"].unique()\n",
    "duplicate_mouse"
   ]
  },
  {
   "cell_type": "code",
   "execution_count": 8,
   "metadata": {},
   "outputs": [
    {
     "data": {
      "text/html": [
       "<div>\n",
       "<style scoped>\n",
       "    .dataframe tbody tr th:only-of-type {\n",
       "        vertical-align: middle;\n",
       "    }\n",
       "\n",
       "    .dataframe tbody tr th {\n",
       "        vertical-align: top;\n",
       "    }\n",
       "\n",
       "    .dataframe thead th {\n",
       "        text-align: right;\n",
       "    }\n",
       "</style>\n",
       "<table border=\"1\" class=\"dataframe\">\n",
       "  <thead>\n",
       "    <tr style=\"text-align: right;\">\n",
       "      <th></th>\n",
       "      <th>Mouse ID</th>\n",
       "      <th>Drug Regimen</th>\n",
       "      <th>Sex</th>\n",
       "      <th>Age_months</th>\n",
       "      <th>Weight (g)</th>\n",
       "      <th>Timepoint</th>\n",
       "      <th>Tumor Volume (mm3)</th>\n",
       "      <th>Metastatic Sites</th>\n",
       "    </tr>\n",
       "  </thead>\n",
       "  <tbody>\n",
       "    <tr>\n",
       "      <td>908</td>\n",
       "      <td>g989</td>\n",
       "      <td>Propriva</td>\n",
       "      <td>Female</td>\n",
       "      <td>21</td>\n",
       "      <td>26</td>\n",
       "      <td>0</td>\n",
       "      <td>45.000000</td>\n",
       "      <td>0</td>\n",
       "    </tr>\n",
       "    <tr>\n",
       "      <td>909</td>\n",
       "      <td>g989</td>\n",
       "      <td>Propriva</td>\n",
       "      <td>Female</td>\n",
       "      <td>21</td>\n",
       "      <td>26</td>\n",
       "      <td>0</td>\n",
       "      <td>45.000000</td>\n",
       "      <td>0</td>\n",
       "    </tr>\n",
       "    <tr>\n",
       "      <td>910</td>\n",
       "      <td>g989</td>\n",
       "      <td>Propriva</td>\n",
       "      <td>Female</td>\n",
       "      <td>21</td>\n",
       "      <td>26</td>\n",
       "      <td>5</td>\n",
       "      <td>48.786801</td>\n",
       "      <td>0</td>\n",
       "    </tr>\n",
       "    <tr>\n",
       "      <td>911</td>\n",
       "      <td>g989</td>\n",
       "      <td>Propriva</td>\n",
       "      <td>Female</td>\n",
       "      <td>21</td>\n",
       "      <td>26</td>\n",
       "      <td>5</td>\n",
       "      <td>47.570392</td>\n",
       "      <td>0</td>\n",
       "    </tr>\n",
       "    <tr>\n",
       "      <td>912</td>\n",
       "      <td>g989</td>\n",
       "      <td>Propriva</td>\n",
       "      <td>Female</td>\n",
       "      <td>21</td>\n",
       "      <td>26</td>\n",
       "      <td>10</td>\n",
       "      <td>51.745156</td>\n",
       "      <td>0</td>\n",
       "    </tr>\n",
       "  </tbody>\n",
       "</table>\n",
       "</div>"
      ],
      "text/plain": [
       "    Mouse ID Drug Regimen     Sex  Age_months  Weight (g)  Timepoint  \\\n",
       "908     g989     Propriva  Female          21          26          0   \n",
       "909     g989     Propriva  Female          21          26          0   \n",
       "910     g989     Propriva  Female          21          26          5   \n",
       "911     g989     Propriva  Female          21          26          5   \n",
       "912     g989     Propriva  Female          21          26         10   \n",
       "\n",
       "     Tumor Volume (mm3)  Metastatic Sites  \n",
       "908           45.000000                 0  \n",
       "909           45.000000                 0  \n",
       "910           48.786801                 0  \n",
       "911           47.570392                 0  \n",
       "912           51.745156                 0  "
      ]
     },
     "execution_count": 8,
     "metadata": {},
     "output_type": "execute_result"
    }
   ],
   "source": [
    "#Looking at data for mouse g989\n",
    "study_mouse_df.loc[study_mouse_df[\"Mouse ID\"]=='g989'].head()"
   ]
  },
  {
   "cell_type": "code",
   "execution_count": 9,
   "metadata": {
    "scrolled": true
   },
   "outputs": [
    {
     "data": {
      "text/html": [
       "<div>\n",
       "<style scoped>\n",
       "    .dataframe tbody tr th:only-of-type {\n",
       "        vertical-align: middle;\n",
       "    }\n",
       "\n",
       "    .dataframe tbody tr th {\n",
       "        vertical-align: top;\n",
       "    }\n",
       "\n",
       "    .dataframe thead th {\n",
       "        text-align: right;\n",
       "    }\n",
       "</style>\n",
       "<table border=\"1\" class=\"dataframe\">\n",
       "  <thead>\n",
       "    <tr style=\"text-align: right;\">\n",
       "      <th></th>\n",
       "      <th>Mouse ID</th>\n",
       "      <th>Drug</th>\n",
       "      <th>Sex</th>\n",
       "      <th>Age_months</th>\n",
       "      <th>Weight</th>\n",
       "      <th>Timepoint</th>\n",
       "      <th>Tumor_Volume</th>\n",
       "      <th>Metastatic Sites</th>\n",
       "    </tr>\n",
       "  </thead>\n",
       "  <tbody>\n",
       "    <tr>\n",
       "      <td>0</td>\n",
       "      <td>k403</td>\n",
       "      <td>Ramicane</td>\n",
       "      <td>Male</td>\n",
       "      <td>21</td>\n",
       "      <td>16</td>\n",
       "      <td>0</td>\n",
       "      <td>45.000000</td>\n",
       "      <td>0</td>\n",
       "    </tr>\n",
       "    <tr>\n",
       "      <td>1</td>\n",
       "      <td>k403</td>\n",
       "      <td>Ramicane</td>\n",
       "      <td>Male</td>\n",
       "      <td>21</td>\n",
       "      <td>16</td>\n",
       "      <td>5</td>\n",
       "      <td>38.825898</td>\n",
       "      <td>0</td>\n",
       "    </tr>\n",
       "    <tr>\n",
       "      <td>2</td>\n",
       "      <td>k403</td>\n",
       "      <td>Ramicane</td>\n",
       "      <td>Male</td>\n",
       "      <td>21</td>\n",
       "      <td>16</td>\n",
       "      <td>10</td>\n",
       "      <td>35.014271</td>\n",
       "      <td>1</td>\n",
       "    </tr>\n",
       "    <tr>\n",
       "      <td>3</td>\n",
       "      <td>k403</td>\n",
       "      <td>Ramicane</td>\n",
       "      <td>Male</td>\n",
       "      <td>21</td>\n",
       "      <td>16</td>\n",
       "      <td>15</td>\n",
       "      <td>34.223992</td>\n",
       "      <td>1</td>\n",
       "    </tr>\n",
       "    <tr>\n",
       "      <td>4</td>\n",
       "      <td>k403</td>\n",
       "      <td>Ramicane</td>\n",
       "      <td>Male</td>\n",
       "      <td>21</td>\n",
       "      <td>16</td>\n",
       "      <td>20</td>\n",
       "      <td>32.997729</td>\n",
       "      <td>1</td>\n",
       "    </tr>\n",
       "  </tbody>\n",
       "</table>\n",
       "</div>"
      ],
      "text/plain": [
       "  Mouse ID      Drug   Sex  Age_months  Weight  Timepoint  Tumor_Volume  \\\n",
       "0     k403  Ramicane  Male          21      16          0     45.000000   \n",
       "1     k403  Ramicane  Male          21      16          5     38.825898   \n",
       "2     k403  Ramicane  Male          21      16         10     35.014271   \n",
       "3     k403  Ramicane  Male          21      16         15     34.223992   \n",
       "4     k403  Ramicane  Male          21      16         20     32.997729   \n",
       "\n",
       "   Metastatic Sites  \n",
       "0                 0  \n",
       "1                 0  \n",
       "2                 1  \n",
       "3                 1  \n",
       "4                 1  "
      ]
     },
     "execution_count": 9,
     "metadata": {},
     "output_type": "execute_result"
    }
   ],
   "source": [
    "# Create a clean DataFrame by dropping the duplicate mouse by its ID.\n",
    "#study_mouse_df.drop_duplicates(subset=\"Mouse ID\")\n",
    "clean_study_mouse_df = study_mouse_df.drop_duplicates(subset=[\"Mouse ID\", \"Timepoint\"]).copy()\n",
    "clean_study_mouse_df.rename(columns = {'Tumor Volume (mm3)': 'Tumor_Volume','Drug Regimen': 'Drug', 'Weight (g)': 'Weight'}, inplace = True)\n",
    "clean_study_mouse_df.head()"
   ]
  },
  {
   "cell_type": "code",
   "execution_count": 10,
   "metadata": {},
   "outputs": [],
   "source": [
    "#Compare clean data frame to first\n",
    "#clean_study_mouse_df.loc[clean_study_mouse_df[\"Mouse ID\"]=='g989'].head()"
   ]
  },
  {
   "cell_type": "code",
   "execution_count": 11,
   "metadata": {},
   "outputs": [],
   "source": [
    "#Compare the number of rows\n",
    "#print(len(study_mouse_df))\n",
    "#print(len(clean_study_mouse_df))"
   ]
  },
  {
   "cell_type": "code",
   "execution_count": 12,
   "metadata": {},
   "outputs": [],
   "source": [
    "# Checking the number of mice in the clean DataFrame.\n",
    "#study_mouse_df.drop_duplicates(subset=\"Mouse ID\").count()\n",
    "#study_mouse_df.rename(columns = {'Tumor Volume (mm3)': 'Tumor_Volume','Drug Regimen': 'Drug', 'Weight (g)': 'Weight'}, inplace = True)\n",
    "#print(study_mouse_df.columns)\n",
    "#print(study_mouse_df.count)\n",
    "#study_mouse_df.drop_duplicates(subset=\"Mouse ID\").count().unique()\n",
    "#study_mouse_df.drop_duplicates(subset=\"Mouse ID\").count()"
   ]
  },
  {
   "cell_type": "markdown",
   "metadata": {},
   "source": [
    "## Summary Statistics"
   ]
  },
  {
   "cell_type": "code",
   "execution_count": 13,
   "metadata": {},
   "outputs": [],
   "source": [
    "# Generate a summary statistics table of mean, median, variance, standard deviation, \n",
    "#and SEM of the tumor volume for each regimen\n",
    "#  https://pandas.pydata.org/pandas-docs/stable/getting_started/intro_tutorials/06_calculate_statistics.html?highlight=statistics\n",
    "# This method is the most straighforward, creating multiple series and putting them all together at the end.\n",
    "#  https://pandas.pydata.org/pandas-docs/stable/getting_started/basics.html?highlight=variance\n",
    "tumor_mean = clean_study_mouse_df.groupby(\"Drug\").mean()[\"Tumor_Volume\"]\n",
    "#print(\"Tumor Volume Mean\")\n",
    "#print(tumor_mean)\n",
    "tumor_median = clean_study_mouse_df.groupby(\"Drug\").median()[\"Tumor_Volume\"]\n",
    "#print(\"Tumor Volume Median\")\n",
    "#print(timor_median)\n",
    "tumor_variance = clean_study_mouse_df.groupby(\"Drug\").var()[\"Tumor_Volume\"]\n",
    "#print(\"Tumor Volume Variance\")\n",
    "#print(tumor_variance)\n",
    "tumor_standard_deviation = clean_study_mouse_df.groupby(\"Drug\").std()[\"Tumor_Volume\"]\n",
    "#print(\"Tumor Volume Standard Deviation\")\n",
    "#print(tumor_standard_deviation)\n",
    "tumor_standard_error_of_mean = clean_study_mouse_df.groupby(\"Drug\").sem()[\"Tumor_Volume\"]\n",
    "#print(\"Tumor Volume Standard Error of Mean \")\n",
    "#print(tumor_standard_error_of_mean )"
   ]
  },
  {
   "cell_type": "code",
   "execution_count": 14,
   "metadata": {
    "scrolled": true
   },
   "outputs": [
    {
     "data": {
      "text/html": [
       "<div>\n",
       "<style scoped>\n",
       "    .dataframe tbody tr th:only-of-type {\n",
       "        vertical-align: middle;\n",
       "    }\n",
       "\n",
       "    .dataframe tbody tr th {\n",
       "        vertical-align: top;\n",
       "    }\n",
       "\n",
       "    .dataframe thead th {\n",
       "        text-align: right;\n",
       "    }\n",
       "</style>\n",
       "<table border=\"1\" class=\"dataframe\">\n",
       "  <thead>\n",
       "    <tr style=\"text-align: right;\">\n",
       "      <th></th>\n",
       "      <th>Tumor Volume Mean</th>\n",
       "      <th>Tumor Volume Median</th>\n",
       "      <th>Tumor Volume Variance</th>\n",
       "      <th>Tumor Volume Standard Deviation</th>\n",
       "      <th>Tumor Volume Standard Error of Mean</th>\n",
       "    </tr>\n",
       "    <tr>\n",
       "      <th>Drug</th>\n",
       "      <th></th>\n",
       "      <th></th>\n",
       "      <th></th>\n",
       "      <th></th>\n",
       "      <th></th>\n",
       "    </tr>\n",
       "  </thead>\n",
       "  <tbody>\n",
       "    <tr>\n",
       "      <td>Capomulin</td>\n",
       "      <td>40.675741</td>\n",
       "      <td>41.557809</td>\n",
       "      <td>24.947764</td>\n",
       "      <td>4.994774</td>\n",
       "      <td>0.329346</td>\n",
       "    </tr>\n",
       "    <tr>\n",
       "      <td>Ceftamin</td>\n",
       "      <td>52.591172</td>\n",
       "      <td>51.776157</td>\n",
       "      <td>39.290177</td>\n",
       "      <td>6.268188</td>\n",
       "      <td>0.469821</td>\n",
       "    </tr>\n",
       "    <tr>\n",
       "      <td>Infubinol</td>\n",
       "      <td>52.884795</td>\n",
       "      <td>51.820584</td>\n",
       "      <td>43.128684</td>\n",
       "      <td>6.567243</td>\n",
       "      <td>0.492236</td>\n",
       "    </tr>\n",
       "    <tr>\n",
       "      <td>Ketapril</td>\n",
       "      <td>55.235638</td>\n",
       "      <td>53.698743</td>\n",
       "      <td>68.553577</td>\n",
       "      <td>8.279709</td>\n",
       "      <td>0.603860</td>\n",
       "    </tr>\n",
       "    <tr>\n",
       "      <td>Naftisol</td>\n",
       "      <td>54.331565</td>\n",
       "      <td>52.509285</td>\n",
       "      <td>66.173479</td>\n",
       "      <td>8.134708</td>\n",
       "      <td>0.596466</td>\n",
       "    </tr>\n",
       "    <tr>\n",
       "      <td>Placebo</td>\n",
       "      <td>54.033581</td>\n",
       "      <td>52.288934</td>\n",
       "      <td>61.168083</td>\n",
       "      <td>7.821003</td>\n",
       "      <td>0.581331</td>\n",
       "    </tr>\n",
       "    <tr>\n",
       "      <td>Propriva</td>\n",
       "      <td>52.393463</td>\n",
       "      <td>50.909965</td>\n",
       "      <td>43.138803</td>\n",
       "      <td>6.568014</td>\n",
       "      <td>0.525862</td>\n",
       "    </tr>\n",
       "    <tr>\n",
       "      <td>Ramicane</td>\n",
       "      <td>40.216745</td>\n",
       "      <td>40.673236</td>\n",
       "      <td>23.486704</td>\n",
       "      <td>4.846308</td>\n",
       "      <td>0.320955</td>\n",
       "    </tr>\n",
       "    <tr>\n",
       "      <td>Stelasyn</td>\n",
       "      <td>54.233149</td>\n",
       "      <td>52.431737</td>\n",
       "      <td>59.450562</td>\n",
       "      <td>7.710419</td>\n",
       "      <td>0.573111</td>\n",
       "    </tr>\n",
       "    <tr>\n",
       "      <td>Zoniferol</td>\n",
       "      <td>53.236507</td>\n",
       "      <td>51.818479</td>\n",
       "      <td>48.533355</td>\n",
       "      <td>6.966589</td>\n",
       "      <td>0.516398</td>\n",
       "    </tr>\n",
       "  </tbody>\n",
       "</table>\n",
       "</div>"
      ],
      "text/plain": [
       "           Tumor Volume Mean  Tumor Volume Median  Tumor Volume Variance  \\\n",
       "Drug                                                                       \n",
       "Capomulin          40.675741            41.557809              24.947764   \n",
       "Ceftamin           52.591172            51.776157              39.290177   \n",
       "Infubinol          52.884795            51.820584              43.128684   \n",
       "Ketapril           55.235638            53.698743              68.553577   \n",
       "Naftisol           54.331565            52.509285              66.173479   \n",
       "Placebo            54.033581            52.288934              61.168083   \n",
       "Propriva           52.393463            50.909965              43.138803   \n",
       "Ramicane           40.216745            40.673236              23.486704   \n",
       "Stelasyn           54.233149            52.431737              59.450562   \n",
       "Zoniferol          53.236507            51.818479              48.533355   \n",
       "\n",
       "           Tumor Volume Standard Deviation  \\\n",
       "Drug                                         \n",
       "Capomulin                         4.994774   \n",
       "Ceftamin                          6.268188   \n",
       "Infubinol                         6.567243   \n",
       "Ketapril                          8.279709   \n",
       "Naftisol                          8.134708   \n",
       "Placebo                           7.821003   \n",
       "Propriva                          6.568014   \n",
       "Ramicane                          4.846308   \n",
       "Stelasyn                          7.710419   \n",
       "Zoniferol                         6.966589   \n",
       "\n",
       "           Tumor Volume Standard Error of Mean  \n",
       "Drug                                            \n",
       "Capomulin                             0.329346  \n",
       "Ceftamin                              0.469821  \n",
       "Infubinol                             0.492236  \n",
       "Ketapril                              0.603860  \n",
       "Naftisol                              0.596466  \n",
       "Placebo                               0.581331  \n",
       "Propriva                              0.525862  \n",
       "Ramicane                              0.320955  \n",
       "Stelasyn                              0.573111  \n",
       "Zoniferol                             0.516398  "
      ]
     },
     "execution_count": 14,
     "metadata": {},
     "output_type": "execute_result"
    }
   ],
   "source": [
    "tumor_volume_summary = pd.DataFrame({\n",
    "                                        \"Tumor Volume Mean\":tumor_mean,\n",
    "                                       \"Tumor Volume Median\":tumor_median,\n",
    "                                       \"Tumor Volume Variance\":tumor_variance,\n",
    "                                      \"Tumor Volume Standard Deviation\": tumor_standard_deviation,\n",
    "                                        \"Tumor Volume Standard Error of Mean\":tumor_standard_error_of_mean})\n",
    "tumor_volume_summary"
   ]
  },
  {
   "cell_type": "markdown",
   "metadata": {},
   "source": [
    "## Bar Plots"
   ]
  },
  {
   "cell_type": "code",
   "execution_count": 15,
   "metadata": {},
   "outputs": [
    {
     "data": {
      "image/png": "[encoded data removed]",
      "text/plain": [
       "<Figure size 432x288 with 1 Axes>"
      ]
     },
     "metadata": {
      "needs_background": "light"
     },
     "output_type": "display_data"
    }
   ],
   "source": [
    "# Generate a bar plot showing the number of mice per time point for each treatment throughout \n",
    "#the course of the study using pandas. \n",
    "#study_mouse_df.groupby(\"Drug\")[\"Timepoint\"].count()\n",
    "drug_counts = clean_study_mouse_df[\"Drug\"].value_counts()\n",
    "#print(drug_counts)\n",
    "drug_counts.plot(kind=\"bar\")\n",
    "plt.title(\"Treatment per Timepoint\")\n",
    "plt.xlabel(\"Drug Regimine\")\n",
    "plt.ylabel(\"Data Points\");"
   ]
  },
  {
   "cell_type": "code",
   "execution_count": 16,
   "metadata": {},
   "outputs": [
    {
     "data": {
      "image/png": "[encoded data removed]",
      "text/plain": [
       "<Figure size 432x288 with 1 Axes>"
      ]
     },
     "metadata": {
      "needs_background": "light"
     },
     "output_type": "display_data"
    }
   ],
   "source": [
    "# Generate a bar plot showing the number of mice per time point for each treatment \n",
    "#throughout the course of the study using pyplot.\n",
    "drug_counts = clean_study_mouse_df[\"Drug\"].value_counts()\n",
    "plt.bar(drug_counts.index, drug_counts, color ='g', align = \"center\")\n",
    "plt.xticks(rotation=90)\n",
    "plt.title(\"Treatment per Timepoint\")\n",
    "plt.xlabel(\"Drug Regimine\")\n",
    "plt.ylabel(\"Data Points\");"
   ]
  },
  {
   "cell_type": "code",
   "execution_count": 17,
   "metadata": {},
   "outputs": [
    {
     "data": {
      "text/plain": [
       "Index(['Capomulin', 'Ramicane', 'Ketapril', 'Naftisol', 'Zoniferol', 'Placebo',\n",
       "       'Stelasyn', 'Ceftamin', 'Infubinol', 'Propriva'],\n",
       "      dtype='object')"
      ]
     },
     "execution_count": 17,
     "metadata": {},
     "output_type": "execute_result"
    }
   ],
   "source": [
    "#to see everything in the index\n",
    "drug_counts.index"
   ]
  },
  {
   "cell_type": "markdown",
   "metadata": {},
   "source": [
    "## Pie Plots"
   ]
  },
  {
   "cell_type": "code",
   "execution_count": 18,
   "metadata": {},
   "outputs": [
    {
     "data": {
      "image/png": "[encoded data removed]",
      "text/plain": [
       "<Figure size 432x288 with 1 Axes>"
      ]
     },
     "metadata": {},
     "output_type": "display_data"
    }
   ],
   "source": [
    "# Generate a pie plot showing the distribution of female versus male mice using pandas\n",
    "sex = clean_study_mouse_df[\"Sex\"].value_counts()\n",
    "sex.plot(kind=\"pie\",autopct = \"%1.1f%%\");"
   ]
  },
  {
   "cell_type": "code",
   "execution_count": 19,
   "metadata": {},
   "outputs": [
    {
     "data": {
      "image/png": "[encoded data removed]",
      "text/plain": [
       "<Figure size 432x288 with 1 Axes>"
      ]
     },
     "metadata": {},
     "output_type": "display_data"
    }
   ],
   "source": [
    "# Generate a pie plot showing the distribution of female versus male mice using pyplot\n",
    "#labels = [\"Male\", \"Female\"]\n",
    "sex = clean_study_mouse_df[\"Sex\"].value_counts()\n",
    "#print(sex)\n",
    "explode = (0.12, 0)\n",
    "plt.pie(sex, explode = explode, autopct = \"%1.1f%%\", shadow = True);\n",
    "#plt.show()"
   ]
  },
  {
   "cell_type": "markdown",
   "metadata": {},
   "source": [
    "## Quartiles, Outliers and Boxplots"
   ]
  },
  {
   "cell_type": "code",
   "execution_count": 20,
   "metadata": {
    "scrolled": true
   },
   "outputs": [],
   "source": [
    "# Calculate the final tumor volume of each mouse across four of the most promising treatment \n",
    "#regimens. Calculate the IQR and quantitatively determine if there are any potential outliers. \n",
    "#https://www.geeksforgeeks.org/python-pandas-dataframe-isin/\n",
    "top_drug_regimines = clean_study_mouse_df[clean_study_mouse_df[\"Drug\"].isin([\"Capomulin\", \"Ramicane\", \"Infubinol\", \"Ceftamin\"])]\n",
    "#print(top_drug_regimines)\n",
    "top_drug_regimines_data = top_drug_regimines[[\"Drug\", \"Mouse ID\", \"Timepoint\", \"Weight\", \"Tumor_Volume\"]]\n",
    "#print(top_drug_regimines_data)\n",
    "#print(top_drug_regimines_data.count())\n"
   ]
  },
  {
   "cell_type": "code",
   "execution_count": 21,
   "metadata": {},
   "outputs": [],
   "source": [
    "#used to compare\n",
    "#max_tumor_mouse.info()"
   ]
  },
  {
   "cell_type": "code",
   "execution_count": 22,
   "metadata": {},
   "outputs": [],
   "source": [
    "#used to compare\n",
    "#max_tumor_mouse_merge.info()"
   ]
  },
  {
   "cell_type": "code",
   "execution_count": 34,
   "metadata": {},
   "outputs": [
    {
     "data": {
      "image/png": "[encoded data removed]",
      "text/plain": [
       "<Figure size 432x288 with 1 Axes>"
      ]
     },
     "metadata": {
      "needs_background": "light"
     },
     "output_type": "display_data"
    },
    {
     "name": "stdout",
     "output_type": "stream",
     "text": [
      "The lower quartile of tumor volume  is: Timepoint           20.000000\n",
      "Age_months           6.000000\n",
      "Weight              25.000000\n",
      "Tumor_Volume        45.934712\n",
      "Metastatic Sites     1.000000\n",
      "Name: 0.25, dtype: float64\n",
      "The upper quartile of tumor volume is: Timepoint           45.000000\n",
      "Age_months          19.000000\n",
      "Weight              29.000000\n",
      "Tumor_Volume        64.957562\n",
      "Metastatic Sites     3.000000\n",
      "Name: 0.75, dtype: float64\n",
      "The interquartile range of tumor volume is: Timepoint           25.00000\n",
      "Age_months          13.00000\n",
      "Weight               4.00000\n",
      "Tumor_Volume        19.02285\n",
      "Metastatic Sites     2.00000\n",
      "dtype: float64\n",
      "The the median of tumor volume is: Timepoint           45.00000\n",
      "Age_months          13.00000\n",
      "Weight              27.00000\n",
      "Tumor_Volume        55.84141\n",
      "Metastatic Sites     1.00000\n",
      "Name: 0.5, dtype: float64 \n",
      "Values below Timepoint          -17.500000\n",
      "Age_months         -13.500000\n",
      "Weight              19.000000\n",
      "Tumor_Volume        17.400438\n",
      "Metastatic Sites    -2.000000\n",
      "dtype: float64 could be outliers.\n",
      "Values above Timepoint           82.500000\n",
      "Age_months          38.500000\n",
      "Weight              35.000000\n",
      "Tumor_Volume        93.491836\n",
      "Metastatic Sites     6.000000\n",
      "dtype: float64 could be outliers.\n"
     ]
    }
   ],
   "source": [
    "# Generate a box plot of the final tumor volume of each mouse across four regimens of interest\n",
    "#https://www.geeksforgeeks.org/python-pandas-series-last/\n",
    "max_tumor_mouse = clean_study_mouse_df.groupby([\"Mouse ID\"]).max()\n",
    "max_tumor_mouse.reset_index(inplace=True)\n",
    "max_tumor_mouse_merge=max_tumor_mouse[[\"Mouse ID\",\"Timepoint\"]].merge(clean_study_mouse_df, on=[\"Mouse ID\",\"Timepoint\"], how = \"left\")\n",
    "capomulin=max_tumor_mouse_merge.loc[max_tumor_mouse_merge[\"Drug\"]==\"Capomulin\"][\"Tumor_Volume\"]\n",
    "ramicane=max_tumor_mouse_merge.loc[max_tumor_mouse_merge[\"Drug\"]==\"Ramicane\"][\"Tumor_Volume\"]\n",
    "infubinol=max_tumor_mouse_merge.loc[max_tumor_mouse_merge[\"Drug\"]==\"Infubinol\"][\"Tumor_Volume\"]\n",
    "ceftamin=max_tumor_mouse_merge.loc[max_tumor_mouse_merge[\"Drug\"]==\"Ceftamin\"][\"Tumor_Volume\"]\n",
    "#top_drug_regimines_df = top_drug_regimines_data.groupby([\"Drug\", \"Mouse ID\"]).mean()[\"Tumor_Volume\"]\n",
    "#top_drug_regimines_df\n",
    "#create a list of top drugs\n",
    "top_drug_treatments = [\"Capomulin\", \"Ramicane\", \"Infubinol\", \"Ceftamin\"]\n",
    "#tumor_value_final = top_drug_regimines_data.groupby(\"Drug\")[\"Tumor_Volume\"].mean()\n",
    "#print(tumor_value_final)\n",
    "fig1, ax1 = plt.subplots()\n",
    "ax1.set_title(\"Tumor Volume by Top Treatments\")\n",
    "ax1.set_ylabel(\"Tumor Volume\")\n",
    "ax1.boxplot([capomulin, ramicane, infubinol, ceftamin], labels = top_drug_treatments, flierprops = {\"markerfacecolor\": \"red\"})\n",
    "\n",
    "#plt.boxplot(tumor_value_final, patch_artist=True, labels = \"top_drug_treatments\")\n",
    "plt.show()\n",
    "\n",
    "#capomulin_quartiles = max_tumor_mouse_merge.quantile([0.25,0.5,0.75])\n",
    "capomulin_lowerq = max_tumor_mouse_merge.quantile(0.25)\n",
    "capomulin_upperq = max_tumor_mouse_merge.quantile(0.75)\n",
    "capomulin_iqr = capomulin_upperq-capomulin_lowerq\n",
    "\n",
    "print(f\"The lower quartile of tumor volume  is: {capomulin_lowerq}\")\n",
    "print(f\"The upper quartile of tumor volume is: {capomulin_upperq}\")\n",
    "print(f\"The interquartile range of tumor volume is: {capomulin_iqr}\")\n",
    "print(f\"The the median of tumor volume is: {max_tumor_mouse_merge.quantile(0.5)} \")\n",
    "\n",
    "lower_bound = capomulin_lowerq - (1.5*capomulin_iqr)\n",
    "upper_bound = capomulin_upperq + (1.5*capomulin_iqr)\n",
    "print(f\"Values below {lower_bound} could be outliers.\")\n",
    "print(f\"Values above {upper_bound} could be outliers.\")"
   ]
  },
  {
   "cell_type": "code",
   "execution_count": 25,
   "metadata": {},
   "outputs": [],
   "source": [
    "ramicane_quartiles = max_tumor_mouse_merge.quantile([0.25,0.5,0.75])\n",
    "ramicane_lowerq =ramicane_quartiles.loc[ 0.25] \n",
    "ramicane_upperq = max_tumor_mouse_merge.quantile(0.75)\n",
    "ramicane_iqr = ramicane_upperq-ramicane_lowerq\n",
    "# print(f\"The lower quartile of tumor volume  is: {ramicane_lowerq}\")\n",
    "# print(f\"The upper quartile of tumor volume is: {ramicane_upperq}\")\n",
    "# print(f\"The interquartile range of tumor volume is: {ramicane_iqr}\")\n",
    "\n",
    "# lower_bound = ramicane_lowerq - (1.5*ramicane_iqr)\n",
    "# upper_bound = ramicane_upperq + (1.5*ramicane_iqr)\n",
    "# print(f\"Values below {lower_bound} could be outliers.\")\n",
    "# print(f\"Values above {upper_bound} could be outliers.\")"
   ]
  },
  {
   "cell_type": "code",
   "execution_count": 27,
   "metadata": {},
   "outputs": [],
   "source": [
    "infubinol_quartiles = max_tumor_mouse_merge.quantile([0.25,0.5,0.75])\n",
    "infubinol_lowerq =infubinol_quartiles.loc[ 0.25] \n",
    "infubinol_upperq = max_tumor_mouse_merge.quantile(0.75)\n",
    "infubinol_iqr = infubinol_upperq-infubinol_lowerq\n",
    "# print(f\"The lower quartile of tumor volume  is: {infubinol_lowerq}\")\n",
    "# print(f\"The upper quartile of tumor volume is: {infubinol_upperq}\")\n",
    "# print(f\"The interquartile range of tumor volume is: {infubinol_iqr}\")\n",
    "\n",
    "# lower_bound = infubinol_lowerq - (1.5*infubinol_iqr)\n",
    "# upper_bound = infubinol_upperq + (1.5*infubinol_iqr)\n",
    "# print(f\"Values below {lower_bound} could be outliers.\")\n",
    "# print(f\"Values above {upper_bound} could be outliers.\")"
   ]
  },
  {
   "cell_type": "code",
   "execution_count": 31,
   "metadata": {},
   "outputs": [],
   "source": [
    "ceftamin_quartiles = max_tumor_mouse_merge.quantile([0.25,0.5,0.75])\n",
    "ceftamin_lowerq =ceftamin_quartiles.loc[ 0.25] \n",
    "ceftamin_upperq = max_tumor_mouse_merge.quantile(0.75)\n",
    "ceftamin_iqr = ceftamin_upperq-ceftamin_lowerq\n",
    "# print(f\"The lower quartile of tumor volume  is: {ceftamin_lowerq}\")\n",
    "# print(f\"The upper quartile of tumor volume is: {ceftamin_upperq}\")\n",
    "# print(f\"The interquartile range of tumor volume is: {ceftamin_iqr}\")\n",
    "\n",
    "# lower_bound = ceftamin_lowerq - (1.5*ceftamin_iqr)\n",
    "# upper_bound = ceftamin_upperq + (1.5*ceftamin_iqr)\n",
    "# print(f\"Values below {lower_bound} could be outliers.\")\n",
    "# print(f\"Values above {upper_bound} could be outliers.\")"
   ]
  },
  {
   "cell_type": "code",
   "execution_count": 29,
   "metadata": {},
   "outputs": [],
   "source": [
    "#looking at the tumor volume to see if it changed\n",
    "#max_tumor_mouse.head()"
   ]
  },
  {
   "cell_type": "markdown",
   "metadata": {},
   "source": [
    "## Line and Scatter Plots"
   ]
  },
  {
   "cell_type": "code",
   "execution_count": 30,
   "metadata": {},
   "outputs": [
    {
     "data": {
      "image/png": "[encoded data removed]",
      "text/plain": [
       "<Figure size 432x288 with 1 Axes>"
      ]
     },
     "metadata": {
      "needs_background": "light"
     },
     "output_type": "display_data"
    }
   ],
   "source": [
    "# Generate a line plot of time point versus tumor volume for a mouse treated with Capomulin\n",
    "#weight = study_mouse_df.groupby([\"Weight\"])[study_mouse_df.groupby([\"Weight\"])[\"Tumor_Volume\"].mean()]\n",
    "capomulin = clean_study_mouse_df.loc[clean_study_mouse_df[\"Drug\"]==\"Capomulin\"]\n",
    "capomulin.head()\n",
    "mouse_data =capomulin.loc[capomulin[\"Mouse ID\"]==\"s185\"]\n",
    "plt.plot(mouse_data[\"Timepoint\"],mouse_data[\"Tumor_Volume\"]);\n",
    "plt.xlabel(\"Time\")\n",
    "plt.ylabel(\"Tumor Volume\");"
   ]
  },
  {
   "cell_type": "code",
   "execution_count": 32,
   "metadata": {},
   "outputs": [
    {
     "data": {
      "image/png": "[encoded data removed]",
      "text/plain": [
       "<Figure size 432x288 with 1 Axes>"
      ]
     },
     "metadata": {
      "needs_background": "light"
     },
     "output_type": "display_data"
    }
   ],
   "source": [
    "# Generate a scatter plot of mouse weight versus average tumor volume for the Capomulin regimen\n",
    "#capomulin_scatter = clean_study_mouse_df.loc[study_mouse_df[\"Drug\"]==\"Capomulin\"]\n",
    "capomulin_mean = capomulin.groupby([\"Mouse ID\"]).mean()\n",
    "#print(capomulin_mean)\n",
    "#capomulin_scatter = max_tumor_mouse_merge[max_tumor_mouse_merge[\"Drug\"].isin([\"capomulin\"])]\n",
    "#print(capomulin_scatter)\n",
    "#capomulin_scatter_df = top_drug_regimines_data[[\"Mouse ID\", \"Weight\", \"Tumor_Volume\"]]\n",
    "#print(capomulin_scatter_df)\n",
    "#capomulin_scatter_weight = capomulin_scatter_df.groupby(\"Weight\")[\"Tumor_Volume\"].mean()\n",
    "#print(capomulin_scatter_weight)\n",
    "capomulin_scatter = capomulin_mean.plot(kind = \"scatter\", x=\"Weight\", y=\"Tumor_Volume\")"
   ]
  },
  {
   "cell_type": "markdown",
   "metadata": {},
   "source": [
    "## Correlation and Regression"
   ]
  },
  {
   "cell_type": "code",
   "execution_count": 33,
   "metadata": {},
   "outputs": [
    {
     "name": "stdout",
     "output_type": "stream",
     "text": [
      "y = 0.95x + 21.55\n",
      "The r-squared is: 0.7088568047708717\n"
     ]
    },
    {
     "data": {
      "image/png": "[encoded data removed]",
      "text/plain": [
       "<Figure size 432x288 with 1 Axes>"
      ]
     },
     "metadata": {
      "needs_background": "light"
     },
     "output_type": "display_data"
    }
   ],
   "source": [
    "# Calculate the correlation coefficient and linear regression model \n",
    "# for mouse weight and average tumor volume for the Capomulin regimen\n",
    "x_values = capomulin_mean[\"Weight\"]\n",
    "y_values = capomulin_mean[\"Tumor_Volume\"]\n",
    "(slope, intercept, rvalue, pvalue, stderr) = st.linregress(x_values, y_values)\n",
    "regress_values = x_values * slope + intercept\n",
    "line_eq = \"y = \" + str(round(slope,2)) + \"x + \" + str(round(intercept,2))\n",
    "plt.scatter(x_values,y_values)\n",
    "plt.plot(x_values,regress_values,\"r-\")\n",
    "plt.annotate(line_eq,xy=(18,38), xytext=(20,36),fontsize=15,color=\"red\", arrowprops=dict(facecolor=\"red\", shrink = .01))\n",
    "print(line_eq)\n",
    "plt.xlabel('Tumor Volume')\n",
    "plt.ylabel('Weight of Mouse')\n",
    "print(f\"The r-squared is: {rvalue**2}\")\n",
    "plt.show()"
   ]
  },
  {
   "cell_type": "code",
   "execution_count": null,
   "metadata": {},
   "outputs": [],
   "source": [
    "#OBSERVATIONS\n",
    "# The drug, capomulin, is effective in reducing the size of the tumor in mice. That is evident in the line graph above. \n",
    "# The boxplot shows that infubinol has an outlier. This could be due to a mis-measuremnt on the tumor volume. \n",
    "# I worked with my tutor and he helped me with the quartiles. We worked through the benefit of using loc in this type of code. \n",
    "# Evaluating the quartiles shows that other drug regimines could have outliers.\n",
    "# The line graph shows a significant drop in tumor size over a certain time period. But this represents one mouse.\n",
    "# The r-value is below 1 but above 0.5, this leads me to belive that there is a correlation between the weight of the mouse and the size of the tumor. \n",
    "# We had some time at the end of the tutor session to go over the regression line and figured out how to get arrows. \n"
   ]
  },
  {
   "cell_type": "code",
   "execution_count": null,
   "metadata": {},
   "outputs": [],
   "source": []
  }
 ],
 "metadata": {
  "anaconda-cloud": {},
  "kernelspec": {
   "display_name": "Python 3",
   "language": "python",
   "name": "python3"
  },
  "language_info": {
   "codemirror_mode": {
    "name": "ipython",
    "version": 3
   },
   "file_extension": ".py",
   "mimetype": "text/x-python",
   "name": "python",
   "nbconvert_exporter": "python",
   "pygments_lexer": "ipython3",
   "version": "3.7.4"
  }
 },
 "nbformat": 4,
 "nbformat_minor": 2
}
